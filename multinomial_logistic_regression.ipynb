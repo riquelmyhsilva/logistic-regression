{
 "cells": [
  {
   "cell_type": "code",
   "execution_count": 25,
   "id": "3abea9f3-f53b-4dfb-b7de-7ca3c66f7f67",
   "metadata": {},
   "outputs": [],
   "source": [
    "library(glmnet)\n",
    "library(dplyr)"
   ]
  },
  {
   "cell_type": "code",
   "execution_count": 26,
   "id": "8107c518-8676-4780-9eb5-1444c960dada",
   "metadata": {},
   "outputs": [],
   "source": [
    "set.seed(42) #selecionar inicio de valores aleatorios"
   ]
  },
  {
   "cell_type": "code",
   "execution_count": 32,
   "id": "3a5a3dd3-a41e-4ede-b532-3a4883d3adbf",
   "metadata": {},
   "outputs": [],
   "source": [
    "data(iris)\n",
    "df_iris <- iris "
   ]
  },
  {
   "cell_type": "code",
   "execution_count": 47,
   "id": "b8faf3ae-68c5-49b4-93d4-f2f0e9a83011",
   "metadata": {},
   "outputs": [
    {
     "data": {
      "text/html": [
       "<table>\n",
       "<caption>A data.frame: 6 x 5</caption>\n",
       "<thead>\n",
       "\t<tr><th></th><th scope=col>Sepal.Length</th><th scope=col>Sepal.Width</th><th scope=col>Petal.Length</th><th scope=col>Petal.Width</th><th scope=col>Species</th></tr>\n",
       "\t<tr><th></th><th scope=col>&lt;dbl&gt;</th><th scope=col>&lt;dbl&gt;</th><th scope=col>&lt;dbl&gt;</th><th scope=col>&lt;dbl&gt;</th><th scope=col>&lt;fct&gt;</th></tr>\n",
       "</thead>\n",
       "<tbody>\n",
       "\t<tr><th scope=row>1</th><td>5.1</td><td>3.5</td><td>1.4</td><td>0.2</td><td>setosa</td></tr>\n",
       "\t<tr><th scope=row>2</th><td>4.9</td><td>3.0</td><td>1.4</td><td>0.2</td><td>setosa</td></tr>\n",
       "\t<tr><th scope=row>3</th><td>4.7</td><td>3.2</td><td>1.3</td><td>0.2</td><td>setosa</td></tr>\n",
       "\t<tr><th scope=row>4</th><td>4.6</td><td>3.1</td><td>1.5</td><td>0.2</td><td>setosa</td></tr>\n",
       "\t<tr><th scope=row>5</th><td>5.0</td><td>3.6</td><td>1.4</td><td>0.2</td><td>setosa</td></tr>\n",
       "\t<tr><th scope=row>6</th><td>5.4</td><td>3.9</td><td>1.7</td><td>0.4</td><td>setosa</td></tr>\n",
       "</tbody>\n",
       "</table>\n"
      ],
      "text/latex": [
       "A data.frame: 6 x 5\n",
       "\\begin{tabular}{r|lllll}\n",
       "  & Sepal.Length & Sepal.Width & Petal.Length & Petal.Width & Species\\\\\n",
       "  & <dbl> & <dbl> & <dbl> & <dbl> & <fct>\\\\\n",
       "\\hline\n",
       "\t1 & 5.1 & 3.5 & 1.4 & 0.2 & setosa\\\\\n",
       "\t2 & 4.9 & 3.0 & 1.4 & 0.2 & setosa\\\\\n",
       "\t3 & 4.7 & 3.2 & 1.3 & 0.2 & setosa\\\\\n",
       "\t4 & 4.6 & 3.1 & 1.5 & 0.2 & setosa\\\\\n",
       "\t5 & 5.0 & 3.6 & 1.4 & 0.2 & setosa\\\\\n",
       "\t6 & 5.4 & 3.9 & 1.7 & 0.4 & setosa\\\\\n",
       "\\end{tabular}\n"
      ],
      "text/markdown": [
       "\n",
       "A data.frame: 6 x 5\n",
       "\n",
       "| <!--/--> | Sepal.Length &lt;dbl&gt; | Sepal.Width &lt;dbl&gt; | Petal.Length &lt;dbl&gt; | Petal.Width &lt;dbl&gt; | Species &lt;fct&gt; |\n",
       "|---|---|---|---|---|---|\n",
       "| 1 | 5.1 | 3.5 | 1.4 | 0.2 | setosa |\n",
       "| 2 | 4.9 | 3.0 | 1.4 | 0.2 | setosa |\n",
       "| 3 | 4.7 | 3.2 | 1.3 | 0.2 | setosa |\n",
       "| 4 | 4.6 | 3.1 | 1.5 | 0.2 | setosa |\n",
       "| 5 | 5.0 | 3.6 | 1.4 | 0.2 | setosa |\n",
       "| 6 | 5.4 | 3.9 | 1.7 | 0.4 | setosa |\n",
       "\n"
      ],
      "text/plain": [
       "  Sepal.Length Sepal.Width Petal.Length Petal.Width Species\n",
       "1 5.1          3.5         1.4          0.2         setosa \n",
       "2 4.9          3.0         1.4          0.2         setosa \n",
       "3 4.7          3.2         1.3          0.2         setosa \n",
       "4 4.6          3.1         1.5          0.2         setosa \n",
       "5 5.0          3.6         1.4          0.2         setosa \n",
       "6 5.4          3.9         1.7          0.4         setosa "
      ]
     },
     "metadata": {},
     "output_type": "display_data"
    }
   ],
   "source": [
    "head(df_iris)"
   ]
  },
  {
   "cell_type": "code",
   "execution_count": 34,
   "id": "6a70e256-a11b-419e-842a-0b4992b57b31",
   "metadata": {},
   "outputs": [],
   "source": [
    "df_iris$Species <- as.factor(df_iris$Species)"
   ]
  },
  {
   "cell_type": "code",
   "execution_count": 35,
   "id": "4ada9010-7beb-49c2-8d0d-2f6516661151",
   "metadata": {},
   "outputs": [
    {
     "name": "stdout",
     "output_type": "stream",
     "text": [
      "'data.frame':\t150 obs. of  5 variables:\n",
      " $ Sepal.Length: num  5.1 4.9 4.7 4.6 5 5.4 4.6 5 4.4 4.9 ...\n",
      " $ Sepal.Width : num  3.5 3 3.2 3.1 3.6 3.9 3.4 3.4 2.9 3.1 ...\n",
      " $ Petal.Length: num  1.4 1.4 1.3 1.5 1.4 1.7 1.4 1.5 1.4 1.5 ...\n",
      " $ Petal.Width : num  0.2 0.2 0.2 0.2 0.2 0.4 0.3 0.2 0.2 0.1 ...\n",
      " $ Species     : Factor w/ 3 levels \"setosa\",\"versicolor\",..: 1 1 1 1 1 1 1 1 1 1 ...\n"
     ]
    }
   ],
   "source": [
    "str(df_iris)"
   ]
  },
  {
   "cell_type": "code",
   "execution_count": 36,
   "id": "f4931b1e-d8ed-49f5-9961-442eb0d91b49",
   "metadata": {},
   "outputs": [
    {
     "data": {
      "text/html": [
       "150"
      ],
      "text/latex": [
       "150"
      ],
      "text/markdown": [
       "150"
      ],
      "text/plain": [
       "[1] 150"
      ]
     },
     "metadata": {},
     "output_type": "display_data"
    }
   ],
   "source": [
    "n <- nrow(df_iris)\n",
    "n"
   ]
  },
  {
   "cell_type": "code",
   "execution_count": 43,
   "id": "c61ee38e-b7f6-4e9b-baf3-a0484c9905d1",
   "metadata": {},
   "outputs": [
    {
     "data": {
      "text/html": [
       "<style>\n",
       ".list-inline {list-style: none; margin:0; padding: 0}\n",
       ".list-inline>li {display: inline-block}\n",
       ".list-inline>li:not(:last-child)::after {content: \"\\00b7\"; padding: 0 .5ex}\n",
       "</style>\n",
       "<ol class=list-inline><li>43</li><li>42</li><li>149</li><li>97</li><li>25</li><li>115</li><li>32</li><li>81</li><li>14</li><li>111</li><li>6</li><li>150</li><li>113</li><li>138</li><li>31</li><li>94</li><li>140</li><li>38</li><li>95</li><li>134</li><li>84</li><li>15</li><li>34</li><li>148</li><li>87</li><li>60</li><li>12</li><li>26</li><li>41</li><li>65</li><li>66</li><li>56</li><li>24</li><li>98</li><li>146</li><li>92</li><li>107</li><li>61</li><li>62</li><li>142</li><li>128</li><li>120</li><li>132</li><li>144</li><li>27</li><li>10</li><li>57</li><li>28</li><li>37</li><li>105</li><li>5</li><li>35</li><li>78</li><li>141</li><li>103</li><li>54</li><li>90</li><li>136</li><li>139</li><li>52</li><li>143</li><li>59</li><li>106</li><li>30</li><li>91</li><li>130</li><li>75</li><li>135</li><li>73</li><li>17</li><li>112</li><li>13</li><li>63</li><li>49</li><li>137</li><li>1</li><li>83</li><li>33</li><li>96</li><li>2</li><li>93</li><li>8</li><li>3</li><li>79</li><li>124</li><li>121</li><li>126</li><li>51</li><li>125</li><li>70</li><li>102</li><li>47</li><li>119</li><li>131</li><li>55</li><li>16</li><li>101</li><li>7</li><li>9</li><li>122</li><li>116</li><li>68</li><li>18</li><li>89</li><li>72</li></ol>\n"
      ],
      "text/latex": [
       "\\begin{enumerate*}\n",
       "\\item 43\n",
       "\\item 42\n",
       "\\item 149\n",
       "\\item 97\n",
       "\\item 25\n",
       "\\item 115\n",
       "\\item 32\n",
       "\\item 81\n",
       "\\item 14\n",
       "\\item 111\n",
       "\\item 6\n",
       "\\item 150\n",
       "\\item 113\n",
       "\\item 138\n",
       "\\item 31\n",
       "\\item 94\n",
       "\\item 140\n",
       "\\item 38\n",
       "\\item 95\n",
       "\\item 134\n",
       "\\item 84\n",
       "\\item 15\n",
       "\\item 34\n",
       "\\item 148\n",
       "\\item 87\n",
       "\\item 60\n",
       "\\item 12\n",
       "\\item 26\n",
       "\\item 41\n",
       "\\item 65\n",
       "\\item 66\n",
       "\\item 56\n",
       "\\item 24\n",
       "\\item 98\n",
       "\\item 146\n",
       "\\item 92\n",
       "\\item 107\n",
       "\\item 61\n",
       "\\item 62\n",
       "\\item 142\n",
       "\\item 128\n",
       "\\item 120\n",
       "\\item 132\n",
       "\\item 144\n",
       "\\item 27\n",
       "\\item 10\n",
       "\\item 57\n",
       "\\item 28\n",
       "\\item 37\n",
       "\\item 105\n",
       "\\item 5\n",
       "\\item 35\n",
       "\\item 78\n",
       "\\item 141\n",
       "\\item 103\n",
       "\\item 54\n",
       "\\item 90\n",
       "\\item 136\n",
       "\\item 139\n",
       "\\item 52\n",
       "\\item 143\n",
       "\\item 59\n",
       "\\item 106\n",
       "\\item 30\n",
       "\\item 91\n",
       "\\item 130\n",
       "\\item 75\n",
       "\\item 135\n",
       "\\item 73\n",
       "\\item 17\n",
       "\\item 112\n",
       "\\item 13\n",
       "\\item 63\n",
       "\\item 49\n",
       "\\item 137\n",
       "\\item 1\n",
       "\\item 83\n",
       "\\item 33\n",
       "\\item 96\n",
       "\\item 2\n",
       "\\item 93\n",
       "\\item 8\n",
       "\\item 3\n",
       "\\item 79\n",
       "\\item 124\n",
       "\\item 121\n",
       "\\item 126\n",
       "\\item 51\n",
       "\\item 125\n",
       "\\item 70\n",
       "\\item 102\n",
       "\\item 47\n",
       "\\item 119\n",
       "\\item 131\n",
       "\\item 55\n",
       "\\item 16\n",
       "\\item 101\n",
       "\\item 7\n",
       "\\item 9\n",
       "\\item 122\n",
       "\\item 116\n",
       "\\item 68\n",
       "\\item 18\n",
       "\\item 89\n",
       "\\item 72\n",
       "\\end{enumerate*}\n"
      ],
      "text/markdown": [
       "1. 43\n",
       "2. 42\n",
       "3. 149\n",
       "4. 97\n",
       "5. 25\n",
       "6. 115\n",
       "7. 32\n",
       "8. 81\n",
       "9. 14\n",
       "10. 111\n",
       "11. 6\n",
       "12. 150\n",
       "13. 113\n",
       "14. 138\n",
       "15. 31\n",
       "16. 94\n",
       "17. 140\n",
       "18. 38\n",
       "19. 95\n",
       "20. 134\n",
       "21. 84\n",
       "22. 15\n",
       "23. 34\n",
       "24. 148\n",
       "25. 87\n",
       "26. 60\n",
       "27. 12\n",
       "28. 26\n",
       "29. 41\n",
       "30. 65\n",
       "31. 66\n",
       "32. 56\n",
       "33. 24\n",
       "34. 98\n",
       "35. 146\n",
       "36. 92\n",
       "37. 107\n",
       "38. 61\n",
       "39. 62\n",
       "40. 142\n",
       "41. 128\n",
       "42. 120\n",
       "43. 132\n",
       "44. 144\n",
       "45. 27\n",
       "46. 10\n",
       "47. 57\n",
       "48. 28\n",
       "49. 37\n",
       "50. 105\n",
       "51. 5\n",
       "52. 35\n",
       "53. 78\n",
       "54. 141\n",
       "55. 103\n",
       "56. 54\n",
       "57. 90\n",
       "58. 136\n",
       "59. 139\n",
       "60. 52\n",
       "61. 143\n",
       "62. 59\n",
       "63. 106\n",
       "64. 30\n",
       "65. 91\n",
       "66. 130\n",
       "67. 75\n",
       "68. 135\n",
       "69. 73\n",
       "70. 17\n",
       "71. 112\n",
       "72. 13\n",
       "73. 63\n",
       "74. 49\n",
       "75. 137\n",
       "76. 1\n",
       "77. 83\n",
       "78. 33\n",
       "79. 96\n",
       "80. 2\n",
       "81. 93\n",
       "82. 8\n",
       "83. 3\n",
       "84. 79\n",
       "85. 124\n",
       "86. 121\n",
       "87. 126\n",
       "88. 51\n",
       "89. 125\n",
       "90. 70\n",
       "91. 102\n",
       "92. 47\n",
       "93. 119\n",
       "94. 131\n",
       "95. 55\n",
       "96. 16\n",
       "97. 101\n",
       "98. 7\n",
       "99. 9\n",
       "100. 122\n",
       "101. 116\n",
       "102. 68\n",
       "103. 18\n",
       "104. 89\n",
       "105. 72\n",
       "\n",
       "\n"
      ],
      "text/plain": [
       "  [1]  43  42 149  97  25 115  32  81  14 111   6 150 113 138  31  94 140  38\n",
       " [19]  95 134  84  15  34 148  87  60  12  26  41  65  66  56  24  98 146  92\n",
       " [37] 107  61  62 142 128 120 132 144  27  10  57  28  37 105   5  35  78 141\n",
       " [55] 103  54  90 136 139  52 143  59 106  30  91 130  75 135  73  17 112  13\n",
       " [73]  63  49 137   1  83  33  96   2  93   8   3  79 124 121 126  51 125  70\n",
       " [91] 102  47 119 131  55  16 101   7   9 122 116  68  18  89  72"
      ]
     },
     "metadata": {},
     "output_type": "display_data"
    }
   ],
   "source": [
    "partition <- sample(seq_len(n), size = 0.7 * n)\n",
    "partition"
   ]
  },
  {
   "cell_type": "code",
   "execution_count": 46,
   "id": "35e8fa70-9d59-43a4-96e9-fa95d33ba529",
   "metadata": {},
   "outputs": [
    {
     "data": {
      "text/html": [
       "<table>\n",
       "<caption>A data.frame: 6 x 5</caption>\n",
       "<thead>\n",
       "\t<tr><th></th><th scope=col>Sepal.Length</th><th scope=col>Sepal.Width</th><th scope=col>Petal.Length</th><th scope=col>Petal.Width</th><th scope=col>Species</th></tr>\n",
       "\t<tr><th></th><th scope=col>&lt;dbl&gt;</th><th scope=col>&lt;dbl&gt;</th><th scope=col>&lt;dbl&gt;</th><th scope=col>&lt;dbl&gt;</th><th scope=col>&lt;fct&gt;</th></tr>\n",
       "</thead>\n",
       "<tbody>\n",
       "\t<tr><th scope=row>43</th><td>4.4</td><td>3.2</td><td>1.3</td><td>0.2</td><td>setosa    </td></tr>\n",
       "\t<tr><th scope=row>42</th><td>4.5</td><td>2.3</td><td>1.3</td><td>0.3</td><td>setosa    </td></tr>\n",
       "\t<tr><th scope=row>149</th><td>6.2</td><td>3.4</td><td>5.4</td><td>2.3</td><td>virginica </td></tr>\n",
       "\t<tr><th scope=row>97</th><td>5.7</td><td>2.9</td><td>4.2</td><td>1.3</td><td>versicolor</td></tr>\n",
       "\t<tr><th scope=row>25</th><td>4.8</td><td>3.4</td><td>1.9</td><td>0.2</td><td>setosa    </td></tr>\n",
       "\t<tr><th scope=row>115</th><td>5.8</td><td>2.8</td><td>5.1</td><td>2.4</td><td>virginica </td></tr>\n",
       "</tbody>\n",
       "</table>\n"
      ],
      "text/latex": [
       "A data.frame: 6 x 5\n",
       "\\begin{tabular}{r|lllll}\n",
       "  & Sepal.Length & Sepal.Width & Petal.Length & Petal.Width & Species\\\\\n",
       "  & <dbl> & <dbl> & <dbl> & <dbl> & <fct>\\\\\n",
       "\\hline\n",
       "\t43 & 4.4 & 3.2 & 1.3 & 0.2 & setosa    \\\\\n",
       "\t42 & 4.5 & 2.3 & 1.3 & 0.3 & setosa    \\\\\n",
       "\t149 & 6.2 & 3.4 & 5.4 & 2.3 & virginica \\\\\n",
       "\t97 & 5.7 & 2.9 & 4.2 & 1.3 & versicolor\\\\\n",
       "\t25 & 4.8 & 3.4 & 1.9 & 0.2 & setosa    \\\\\n",
       "\t115 & 5.8 & 2.8 & 5.1 & 2.4 & virginica \\\\\n",
       "\\end{tabular}\n"
      ],
      "text/markdown": [
       "\n",
       "A data.frame: 6 x 5\n",
       "\n",
       "| <!--/--> | Sepal.Length &lt;dbl&gt; | Sepal.Width &lt;dbl&gt; | Petal.Length &lt;dbl&gt; | Petal.Width &lt;dbl&gt; | Species &lt;fct&gt; |\n",
       "|---|---|---|---|---|---|\n",
       "| 43 | 4.4 | 3.2 | 1.3 | 0.2 | setosa     |\n",
       "| 42 | 4.5 | 2.3 | 1.3 | 0.3 | setosa     |\n",
       "| 149 | 6.2 | 3.4 | 5.4 | 2.3 | virginica  |\n",
       "| 97 | 5.7 | 2.9 | 4.2 | 1.3 | versicolor |\n",
       "| 25 | 4.8 | 3.4 | 1.9 | 0.2 | setosa     |\n",
       "| 115 | 5.8 | 2.8 | 5.1 | 2.4 | virginica  |\n",
       "\n"
      ],
      "text/plain": [
       "    Sepal.Length Sepal.Width Petal.Length Petal.Width Species   \n",
       "43  4.4          3.2         1.3          0.2         setosa    \n",
       "42  4.5          2.3         1.3          0.3         setosa    \n",
       "149 6.2          3.4         5.4          2.3         virginica \n",
       "97  5.7          2.9         4.2          1.3         versicolor\n",
       "25  4.8          3.4         1.9          0.2         setosa    \n",
       "115 5.8          2.8         5.1          2.4         virginica "
      ]
     },
     "metadata": {},
     "output_type": "display_data"
    }
   ],
   "source": [
    "training <- df_iris[partition,]\n",
    "head(training)"
   ]
  },
  {
   "cell_type": "code",
   "execution_count": 45,
   "id": "d690d1af-bdd6-4423-a52c-7e28f1fbde0f",
   "metadata": {},
   "outputs": [
    {
     "data": {
      "text/html": [
       "<table>\n",
       "<caption>A data.frame: 6 x 5</caption>\n",
       "<thead>\n",
       "\t<tr><th></th><th scope=col>Sepal.Length</th><th scope=col>Sepal.Width</th><th scope=col>Petal.Length</th><th scope=col>Petal.Width</th><th scope=col>Species</th></tr>\n",
       "\t<tr><th></th><th scope=col>&lt;dbl&gt;</th><th scope=col>&lt;dbl&gt;</th><th scope=col>&lt;dbl&gt;</th><th scope=col>&lt;dbl&gt;</th><th scope=col>&lt;fct&gt;</th></tr>\n",
       "</thead>\n",
       "<tbody>\n",
       "\t<tr><th scope=row>4</th><td>4.6</td><td>3.1</td><td>1.5</td><td>0.2</td><td>setosa</td></tr>\n",
       "\t<tr><th scope=row>11</th><td>5.4</td><td>3.7</td><td>1.5</td><td>0.2</td><td>setosa</td></tr>\n",
       "\t<tr><th scope=row>19</th><td>5.7</td><td>3.8</td><td>1.7</td><td>0.3</td><td>setosa</td></tr>\n",
       "\t<tr><th scope=row>20</th><td>5.1</td><td>3.8</td><td>1.5</td><td>0.3</td><td>setosa</td></tr>\n",
       "\t<tr><th scope=row>21</th><td>5.4</td><td>3.4</td><td>1.7</td><td>0.2</td><td>setosa</td></tr>\n",
       "\t<tr><th scope=row>22</th><td>5.1</td><td>3.7</td><td>1.5</td><td>0.4</td><td>setosa</td></tr>\n",
       "</tbody>\n",
       "</table>\n"
      ],
      "text/latex": [
       "A data.frame: 6 x 5\n",
       "\\begin{tabular}{r|lllll}\n",
       "  & Sepal.Length & Sepal.Width & Petal.Length & Petal.Width & Species\\\\\n",
       "  & <dbl> & <dbl> & <dbl> & <dbl> & <fct>\\\\\n",
       "\\hline\n",
       "\t4 & 4.6 & 3.1 & 1.5 & 0.2 & setosa\\\\\n",
       "\t11 & 5.4 & 3.7 & 1.5 & 0.2 & setosa\\\\\n",
       "\t19 & 5.7 & 3.8 & 1.7 & 0.3 & setosa\\\\\n",
       "\t20 & 5.1 & 3.8 & 1.5 & 0.3 & setosa\\\\\n",
       "\t21 & 5.4 & 3.4 & 1.7 & 0.2 & setosa\\\\\n",
       "\t22 & 5.1 & 3.7 & 1.5 & 0.4 & setosa\\\\\n",
       "\\end{tabular}\n"
      ],
      "text/markdown": [
       "\n",
       "A data.frame: 6 x 5\n",
       "\n",
       "| <!--/--> | Sepal.Length &lt;dbl&gt; | Sepal.Width &lt;dbl&gt; | Petal.Length &lt;dbl&gt; | Petal.Width &lt;dbl&gt; | Species &lt;fct&gt; |\n",
       "|---|---|---|---|---|---|\n",
       "| 4 | 4.6 | 3.1 | 1.5 | 0.2 | setosa |\n",
       "| 11 | 5.4 | 3.7 | 1.5 | 0.2 | setosa |\n",
       "| 19 | 5.7 | 3.8 | 1.7 | 0.3 | setosa |\n",
       "| 20 | 5.1 | 3.8 | 1.5 | 0.3 | setosa |\n",
       "| 21 | 5.4 | 3.4 | 1.7 | 0.2 | setosa |\n",
       "| 22 | 5.1 | 3.7 | 1.5 | 0.4 | setosa |\n",
       "\n"
      ],
      "text/plain": [
       "   Sepal.Length Sepal.Width Petal.Length Petal.Width Species\n",
       "4  4.6          3.1         1.5          0.2         setosa \n",
       "11 5.4          3.7         1.5          0.2         setosa \n",
       "19 5.7          3.8         1.7          0.3         setosa \n",
       "20 5.1          3.8         1.5          0.3         setosa \n",
       "21 5.4          3.4         1.7          0.2         setosa \n",
       "22 5.1          3.7         1.5          0.4         setosa "
      ]
     },
     "metadata": {},
     "output_type": "display_data"
    }
   ],
   "source": [
    "test <- df_iris[-partition,]\n",
    "head(test)"
   ]
  },
  {
   "cell_type": "code",
   "execution_count": 49,
   "id": "8616253f-6378-4cc1-9de3-5c844c83ba56",
   "metadata": {},
   "outputs": [
    {
     "data": {
      "text/html": [
       "<style>\n",
       ".dl-inline {width: auto; margin:0; padding: 0}\n",
       ".dl-inline>dt, .dl-inline>dd {float: none; width: auto; display: inline-block}\n",
       ".dl-inline>dt::after {content: \":\\0020\"; padding-right: .5ex}\n",
       ".dl-inline>dt:not(:first-of-type) {padding-left: .5ex}\n",
       "</style><dl class=dl-inline><dt>Sepal.Length</dt><dd>TRUE</dd><dt>Sepal.Width</dt><dd>TRUE</dd><dt>Petal.Length</dt><dd>TRUE</dd><dt>Petal.Width</dt><dd>TRUE</dd><dt>Species</dt><dd>FALSE</dd></dl>\n"
      ],
      "text/latex": [
       "\\begin{description*}\n",
       "\\item[Sepal.Length] TRUE\n",
       "\\item[Sepal.Width] TRUE\n",
       "\\item[Petal.Length] TRUE\n",
       "\\item[Petal.Width] TRUE\n",
       "\\item[Species] FALSE\n",
       "\\end{description*}\n"
      ],
      "text/markdown": [
       "Sepal.Length\n",
       ":   TRUESepal.Width\n",
       ":   TRUEPetal.Length\n",
       ":   TRUEPetal.Width\n",
       ":   TRUESpecies\n",
       ":   FALSE\n",
       "\n"
      ],
      "text/plain": [
       "Sepal.Length  Sepal.Width Petal.Length  Petal.Width      Species \n",
       "        TRUE         TRUE         TRUE         TRUE        FALSE "
      ]
     },
     "metadata": {},
     "output_type": "display_data"
    }
   ],
   "source": [
    "num_cols <- sapply(training, is.numeric)\n",
    "num_cols"
   ]
  },
  {
   "cell_type": "code",
   "execution_count": 50,
   "id": "4872f831-fb31-4096-b91c-afa14bab88df",
   "metadata": {},
   "outputs": [
    {
     "data": {
      "text/html": [
       "<style>\n",
       ".dl-inline {width: auto; margin:0; padding: 0}\n",
       ".dl-inline>dt, .dl-inline>dd {float: none; width: auto; display: inline-block}\n",
       ".dl-inline>dt::after {content: \":\\0020\"; padding-right: .5ex}\n",
       ".dl-inline>dt:not(:first-of-type) {padding-left: .5ex}\n",
       "</style><dl class=dl-inline><dt>Sepal.Length</dt><dd>5.85238095238095</dd><dt>Sepal.Width</dt><dd>3.05809523809524</dd><dt>Petal.Length</dt><dd>3.78571428571429</dd><dt>Petal.Width</dt><dd>1.21619047619048</dd></dl>\n"
      ],
      "text/latex": [
       "\\begin{description*}\n",
       "\\item[Sepal.Length] 5.85238095238095\n",
       "\\item[Sepal.Width] 3.05809523809524\n",
       "\\item[Petal.Length] 3.78571428571429\n",
       "\\item[Petal.Width] 1.21619047619048\n",
       "\\end{description*}\n"
      ],
      "text/markdown": [
       "Sepal.Length\n",
       ":   5.85238095238095Sepal.Width\n",
       ":   3.05809523809524Petal.Length\n",
       ":   3.78571428571429Petal.Width\n",
       ":   1.21619047619048\n",
       "\n"
      ],
      "text/plain": [
       "Sepal.Length  Sepal.Width Petal.Length  Petal.Width \n",
       "    5.852381     3.058095     3.785714     1.216190 "
      ]
     },
     "metadata": {},
     "output_type": "display_data"
    }
   ],
   "source": [
    "training_mean <- sapply(training[, num_cols, drop = FALSE], mean)\n",
    "training_mean"
   ]
  },
  {
   "cell_type": "code",
   "execution_count": 51,
   "id": "4b446360-308f-4535-84b2-7cee6e9a9670",
   "metadata": {},
   "outputs": [
    {
     "data": {
      "text/html": [
       "<style>\n",
       ".dl-inline {width: auto; margin:0; padding: 0}\n",
       ".dl-inline>dt, .dl-inline>dd {float: none; width: auto; display: inline-block}\n",
       ".dl-inline>dt::after {content: \":\\0020\"; padding-right: .5ex}\n",
       ".dl-inline>dt:not(:first-of-type) {padding-left: .5ex}\n",
       "</style><dl class=dl-inline><dt>Sepal.Length</dt><dd>0.822062981642858</dd><dt>Sepal.Width</dt><dd>0.434737089510818</dd><dt>Petal.Length</dt><dd>1.74286615021992</dd><dt>Petal.Width</dt><dd>0.769380846165855</dd></dl>\n"
      ],
      "text/latex": [
       "\\begin{description*}\n",
       "\\item[Sepal.Length] 0.822062981642858\n",
       "\\item[Sepal.Width] 0.434737089510818\n",
       "\\item[Petal.Length] 1.74286615021992\n",
       "\\item[Petal.Width] 0.769380846165855\n",
       "\\end{description*}\n"
      ],
      "text/markdown": [
       "Sepal.Length\n",
       ":   0.822062981642858Sepal.Width\n",
       ":   0.434737089510818Petal.Length\n",
       ":   1.74286615021992Petal.Width\n",
       ":   0.769380846165855\n",
       "\n"
      ],
      "text/plain": [
       "Sepal.Length  Sepal.Width Petal.Length  Petal.Width \n",
       "   0.8220630    0.4347371    1.7428662    0.7693808 "
      ]
     },
     "metadata": {},
     "output_type": "display_data"
    }
   ],
   "source": [
    "training_sds <- sapply(training[, num_cols, drop = FALSE], sd)\n",
    "training_sds"
   ]
  },
  {
   "cell_type": "code",
   "execution_count": 57,
   "id": "bb979709-a411-46f4-b050-a98294bbfd91",
   "metadata": {},
   "outputs": [],
   "source": [
    "normalization_ap <- function(data, mean, standard_deviation, number_c) {\n",
    "    out <- data\n",
    "    out[, number_c] <- sweep(out[, number_c, drop = FALSE], 2, mean, `-`)\n",
    "    out[, number_c] <- sweep(out[, number_c, drop = FALSE], 2, standard_deviation, `/`)\n",
    "    out\n",
    "}"
   ]
  },
  {
   "cell_type": "code",
   "execution_count": 61,
   "id": "5c5b0d46-fffc-4aae-ae11-3ef08e81cbdd",
   "metadata": {},
   "outputs": [
    {
     "data": {
      "text/html": [
       "<table>\n",
       "<caption>A data.frame: 6 x 5</caption>\n",
       "<thead>\n",
       "\t<tr><th></th><th scope=col>Sepal.Length</th><th scope=col>Sepal.Width</th><th scope=col>Petal.Length</th><th scope=col>Petal.Width</th><th scope=col>Species</th></tr>\n",
       "\t<tr><th></th><th scope=col>&lt;dbl&gt;</th><th scope=col>&lt;dbl&gt;</th><th scope=col>&lt;dbl&gt;</th><th scope=col>&lt;dbl&gt;</th><th scope=col>&lt;fct&gt;</th></tr>\n",
       "</thead>\n",
       "<tbody>\n",
       "\t<tr><th scope=row>43</th><td>-1.7667514</td><td> 0.3264151</td><td>-1.4262221</td><td>-1.3207899</td><td>setosa    </td></tr>\n",
       "\t<tr><th scope=row>42</th><td>-1.6451063</td><td>-1.7438016</td><td>-1.4262221</td><td>-1.1908153</td><td>setosa    </td></tr>\n",
       "\t<tr><th scope=row>149</th><td> 0.4228618</td><td> 0.7864633</td><td> 0.9262247</td><td> 1.4086775</td><td>virginica </td></tr>\n",
       "\t<tr><th scope=row>97</th><td>-0.1853641</td><td>-0.3636571</td><td> 0.2377037</td><td> 0.1089311</td><td>versicolor</td></tr>\n",
       "\t<tr><th scope=row>25</th><td>-1.2801707</td><td> 0.7864633</td><td>-1.0819616</td><td>-1.3207899</td><td>setosa    </td></tr>\n",
       "\t<tr><th scope=row>115</th><td>-0.0637189</td><td>-0.5936812</td><td> 0.7540945</td><td> 1.5386522</td><td>virginica </td></tr>\n",
       "</tbody>\n",
       "</table>\n"
      ],
      "text/latex": [
       "A data.frame: 6 x 5\n",
       "\\begin{tabular}{r|lllll}\n",
       "  & Sepal.Length & Sepal.Width & Petal.Length & Petal.Width & Species\\\\\n",
       "  & <dbl> & <dbl> & <dbl> & <dbl> & <fct>\\\\\n",
       "\\hline\n",
       "\t43 & -1.7667514 &  0.3264151 & -1.4262221 & -1.3207899 & setosa    \\\\\n",
       "\t42 & -1.6451063 & -1.7438016 & -1.4262221 & -1.1908153 & setosa    \\\\\n",
       "\t149 &  0.4228618 &  0.7864633 &  0.9262247 &  1.4086775 & virginica \\\\\n",
       "\t97 & -0.1853641 & -0.3636571 &  0.2377037 &  0.1089311 & versicolor\\\\\n",
       "\t25 & -1.2801707 &  0.7864633 & -1.0819616 & -1.3207899 & setosa    \\\\\n",
       "\t115 & -0.0637189 & -0.5936812 &  0.7540945 &  1.5386522 & virginica \\\\\n",
       "\\end{tabular}\n"
      ],
      "text/markdown": [
       "\n",
       "A data.frame: 6 x 5\n",
       "\n",
       "| <!--/--> | Sepal.Length &lt;dbl&gt; | Sepal.Width &lt;dbl&gt; | Petal.Length &lt;dbl&gt; | Petal.Width &lt;dbl&gt; | Species &lt;fct&gt; |\n",
       "|---|---|---|---|---|---|\n",
       "| 43 | -1.7667514 |  0.3264151 | -1.4262221 | -1.3207899 | setosa     |\n",
       "| 42 | -1.6451063 | -1.7438016 | -1.4262221 | -1.1908153 | setosa     |\n",
       "| 149 |  0.4228618 |  0.7864633 |  0.9262247 |  1.4086775 | virginica  |\n",
       "| 97 | -0.1853641 | -0.3636571 |  0.2377037 |  0.1089311 | versicolor |\n",
       "| 25 | -1.2801707 |  0.7864633 | -1.0819616 | -1.3207899 | setosa     |\n",
       "| 115 | -0.0637189 | -0.5936812 |  0.7540945 |  1.5386522 | virginica  |\n",
       "\n"
      ],
      "text/plain": [
       "    Sepal.Length Sepal.Width Petal.Length Petal.Width Species   \n",
       "43  -1.7667514    0.3264151  -1.4262221   -1.3207899  setosa    \n",
       "42  -1.6451063   -1.7438016  -1.4262221   -1.1908153  setosa    \n",
       "149  0.4228618    0.7864633   0.9262247    1.4086775  virginica \n",
       "97  -0.1853641   -0.3636571   0.2377037    0.1089311  versicolor\n",
       "25  -1.2801707    0.7864633  -1.0819616   -1.3207899  setosa    \n",
       "115 -0.0637189   -0.5936812   0.7540945    1.5386522  virginica "
      ]
     },
     "metadata": {},
     "output_type": "display_data"
    }
   ],
   "source": [
    "training_normalization <- normalization_ap(training, training_mean, training_sds, num_cols)\n",
    "head(training_normalization)"
   ]
  },
  {
   "cell_type": "code",
   "execution_count": 63,
   "id": "4c2d20c4-414d-4636-8597-ca32fb130724",
   "metadata": {},
   "outputs": [
    {
     "data": {
      "text/html": [
       "<table>\n",
       "<caption>A data.frame: 6 x 5</caption>\n",
       "<thead>\n",
       "\t<tr><th></th><th scope=col>Sepal.Length</th><th scope=col>Sepal.Width</th><th scope=col>Petal.Length</th><th scope=col>Petal.Width</th><th scope=col>Species</th></tr>\n",
       "\t<tr><th></th><th scope=col>&lt;dbl&gt;</th><th scope=col>&lt;dbl&gt;</th><th scope=col>&lt;dbl&gt;</th><th scope=col>&lt;dbl&gt;</th><th scope=col>&lt;fct&gt;</th></tr>\n",
       "</thead>\n",
       "<tbody>\n",
       "\t<tr><th scope=row>4</th><td>-1.5234611</td><td>0.09639104</td><td>-1.311469</td><td>-1.320790</td><td>setosa</td></tr>\n",
       "\t<tr><th scope=row>11</th><td>-0.5502996</td><td>1.47653554</td><td>-1.311469</td><td>-1.320790</td><td>setosa</td></tr>\n",
       "\t<tr><th scope=row>19</th><td>-0.1853641</td><td>1.70655962</td><td>-1.196715</td><td>-1.190815</td><td>setosa</td></tr>\n",
       "\t<tr><th scope=row>20</th><td>-0.9152352</td><td>1.70655962</td><td>-1.311469</td><td>-1.190815</td><td>setosa</td></tr>\n",
       "\t<tr><th scope=row>21</th><td>-0.5502996</td><td>0.78646329</td><td>-1.196715</td><td>-1.320790</td><td>setosa</td></tr>\n",
       "\t<tr><th scope=row>22</th><td>-0.9152352</td><td>1.47653554</td><td>-1.311469</td><td>-1.060841</td><td>setosa</td></tr>\n",
       "</tbody>\n",
       "</table>\n"
      ],
      "text/latex": [
       "A data.frame: 6 x 5\n",
       "\\begin{tabular}{r|lllll}\n",
       "  & Sepal.Length & Sepal.Width & Petal.Length & Petal.Width & Species\\\\\n",
       "  & <dbl> & <dbl> & <dbl> & <dbl> & <fct>\\\\\n",
       "\\hline\n",
       "\t4 & -1.5234611 & 0.09639104 & -1.311469 & -1.320790 & setosa\\\\\n",
       "\t11 & -0.5502996 & 1.47653554 & -1.311469 & -1.320790 & setosa\\\\\n",
       "\t19 & -0.1853641 & 1.70655962 & -1.196715 & -1.190815 & setosa\\\\\n",
       "\t20 & -0.9152352 & 1.70655962 & -1.311469 & -1.190815 & setosa\\\\\n",
       "\t21 & -0.5502996 & 0.78646329 & -1.196715 & -1.320790 & setosa\\\\\n",
       "\t22 & -0.9152352 & 1.47653554 & -1.311469 & -1.060841 & setosa\\\\\n",
       "\\end{tabular}\n"
      ],
      "text/markdown": [
       "\n",
       "A data.frame: 6 x 5\n",
       "\n",
       "| <!--/--> | Sepal.Length &lt;dbl&gt; | Sepal.Width &lt;dbl&gt; | Petal.Length &lt;dbl&gt; | Petal.Width &lt;dbl&gt; | Species &lt;fct&gt; |\n",
       "|---|---|---|---|---|---|\n",
       "| 4 | -1.5234611 | 0.09639104 | -1.311469 | -1.320790 | setosa |\n",
       "| 11 | -0.5502996 | 1.47653554 | -1.311469 | -1.320790 | setosa |\n",
       "| 19 | -0.1853641 | 1.70655962 | -1.196715 | -1.190815 | setosa |\n",
       "| 20 | -0.9152352 | 1.70655962 | -1.311469 | -1.190815 | setosa |\n",
       "| 21 | -0.5502996 | 0.78646329 | -1.196715 | -1.320790 | setosa |\n",
       "| 22 | -0.9152352 | 1.47653554 | -1.311469 | -1.060841 | setosa |\n",
       "\n"
      ],
      "text/plain": [
       "   Sepal.Length Sepal.Width Petal.Length Petal.Width Species\n",
       "4  -1.5234611   0.09639104  -1.311469    -1.320790   setosa \n",
       "11 -0.5502996   1.47653554  -1.311469    -1.320790   setosa \n",
       "19 -0.1853641   1.70655962  -1.196715    -1.190815   setosa \n",
       "20 -0.9152352   1.70655962  -1.311469    -1.190815   setosa \n",
       "21 -0.5502996   0.78646329  -1.196715    -1.320790   setosa \n",
       "22 -0.9152352   1.47653554  -1.311469    -1.060841   setosa "
      ]
     },
     "metadata": {},
     "output_type": "display_data"
    }
   ],
   "source": [
    "test_normalization <- normalization_ap(test, training_mean, training_sds, num_cols)\n",
    "head(test_normalization)"
   ]
  },
  {
   "cell_type": "code",
   "execution_count": 64,
   "id": "1e8e3fa1-d547-4b2b-b551-66acb65c86ae",
   "metadata": {},
   "outputs": [],
   "source": [
    "A <- training"
   ]
  },
  {
   "cell_type": "code",
   "execution_count": 65,
   "id": "b8648e88-2c9d-43ca-84a8-8f71d84cbe96",
   "metadata": {},
   "outputs": [],
   "source": [
    "A[,1] <-(training[,1]-training_mean[1]/training_sds[1])\n",
    "A[,2] <-(training[,1]-training_mean[1]/training_sds[1])\n",
    "A[,3] <-(training[,1]-training_mean[1]/training_sds[1])\n",
    "A[,4] <-(training[,1]-training_mean[1]/training_sds[1])"
   ]
  },
  {
   "cell_type": "code",
   "execution_count": 67,
   "id": "ac203cf5-0ae7-4af6-a29c-c27b7595a61c",
   "metadata": {},
   "outputs": [],
   "source": [
    "x_training <- as.matrix(training_normalization[, num_cols, drop = FALSE])\n",
    "x_test <- as.matrix(test_normalization[, num_cols, drop = FALSE])\n",
    "y_training <- training_normalization$Species\n",
    "y_test <- test_normalization$Species"
   ]
  },
  {
   "cell_type": "code",
   "execution_count": 97,
   "id": "d820b93c-0369-4744-9108-a20a0abce80d",
   "metadata": {},
   "outputs": [
    {
     "data": {
      "text/plain": [
       "\n",
       "Call:  cv.glmnet(x = x_training, y = y_training, type.measure = \"class\",      nfolds = 5, family = \"multinomial\", alpha = 0.5) \n",
       "\n",
       "Measure: Misclassification Error \n",
       "\n",
       "      Lambda Measure      SE Nonzero\n",
       "min 0.000201 0.01905 0.01166       4\n",
       "1se 0.007556 0.02857 0.01905       3"
      ]
     },
     "metadata": {},
     "output_type": "display_data"
    }
   ],
   "source": [
    "cv_fit <- cv.glmnet(x = x_training,\n",
    "                  y = y_training,\n",
    "                   family = \"multinomial\",\n",
    "                   type.measure = \"class\",\n",
    "                   alpha = 0.5,\n",
    "                   nfolds = 5)\n",
    "cv_fit"
   ]
  },
  {
   "cell_type": "code",
   "execution_count": 98,
   "id": "add549a2-d767-4ab3-8907-39b50ca3d1dd",
   "metadata": {},
   "outputs": [
    {
     "data": {
      "text/html": [
       "0.00755620086260554"
      ],
      "text/latex": [
       "0.00755620086260554"
      ],
      "text/markdown": [
       "0.00755620086260554"
      ],
      "text/plain": [
       "[1] 0.007556201"
      ]
     },
     "metadata": {},
     "output_type": "display_data"
    }
   ],
   "source": [
    "best_lambda <- cv_fit$lambda.1se\n",
    "best_lambda"
   ]
  },
  {
   "cell_type": "code",
   "execution_count": 84,
   "id": "1e67c1cd-7fd7-40e7-ae8a-13439a7c9895",
   "metadata": {},
   "outputs": [],
   "source": [
    "probs_glmnet <- predict(cv_fit,\n",
    "                       newx = x_test,\n",
    "                       s = best_lambda,\n",
    "                       type = \"response\")[,,1]"
   ]
  },
  {
   "cell_type": "code",
   "execution_count": 85,
   "id": "d7b243a8-8bd8-4469-8286-d09f6e606f5f",
   "metadata": {},
   "outputs": [
    {
     "data": {
      "text/html": [
       "<style>\n",
       ".list-inline {list-style: none; margin:0; padding: 0}\n",
       ".list-inline>li {display: inline-block}\n",
       ".list-inline>li:not(:last-child)::after {content: \"\\00b7\"; padding: 0 .5ex}\n",
       "</style>\n",
       "<ol class=list-inline><li>45</li><li>4</li></ol>\n"
      ],
      "text/latex": [
       "\\begin{enumerate*}\n",
       "\\item 45\n",
       "\\item 4\n",
       "\\end{enumerate*}\n"
      ],
      "text/markdown": [
       "1. 45\n",
       "2. 4\n",
       "\n",
       "\n"
      ],
      "text/plain": [
       "[1] 45  4"
      ]
     },
     "metadata": {},
     "output_type": "display_data"
    }
   ],
   "source": [
    "dim(x_test)"
   ]
  },
  {
   "cell_type": "code",
   "execution_count": 87,
   "id": "9809f816-7e51-41d4-b9b2-0d970df33700",
   "metadata": {},
   "outputs": [
    {
     "data": {
      "text/html": [
       "<table>\n",
       "<caption>A matrix: 6 x 3 of type dbl</caption>\n",
       "<thead>\n",
       "\t<tr><th></th><th scope=col>setosa</th><th scope=col>versicolor</th><th scope=col>virginica</th></tr>\n",
       "</thead>\n",
       "<tbody>\n",
       "\t<tr><th scope=row>4</th><td>0.9642528</td><td>0.03574500</td><td>2.148093e-06</td></tr>\n",
       "\t<tr><th scope=row>11</th><td>0.9768408</td><td>0.02315819</td><td>9.587338e-07</td></tr>\n",
       "\t<tr><th scope=row>19</th><td>0.9633442</td><td>0.03665316</td><td>2.640316e-06</td></tr>\n",
       "\t<tr><th scope=row>20</th><td>0.9847226</td><td>0.01527637</td><td>9.872122e-07</td></tr>\n",
       "\t<tr><th scope=row>21</th><td>0.9454431</td><td>0.05455375</td><td>3.195809e-06</td></tr>\n",
       "\t<tr><th scope=row>22</th><td>0.9778192</td><td>0.02217864</td><td>2.184701e-06</td></tr>\n",
       "</tbody>\n",
       "</table>\n"
      ],
      "text/latex": [
       "A matrix: 6 x 3 of type dbl\n",
       "\\begin{tabular}{r|lll}\n",
       "  & setosa & versicolor & virginica\\\\\n",
       "\\hline\n",
       "\t4 & 0.9642528 & 0.03574500 & 2.148093e-06\\\\\n",
       "\t11 & 0.9768408 & 0.02315819 & 9.587338e-07\\\\\n",
       "\t19 & 0.9633442 & 0.03665316 & 2.640316e-06\\\\\n",
       "\t20 & 0.9847226 & 0.01527637 & 9.872122e-07\\\\\n",
       "\t21 & 0.9454431 & 0.05455375 & 3.195809e-06\\\\\n",
       "\t22 & 0.9778192 & 0.02217864 & 2.184701e-06\\\\\n",
       "\\end{tabular}\n"
      ],
      "text/markdown": [
       "\n",
       "A matrix: 6 x 3 of type dbl\n",
       "\n",
       "| <!--/--> | setosa | versicolor | virginica |\n",
       "|---|---|---|---|\n",
       "| 4 | 0.9642528 | 0.03574500 | 2.148093e-06 |\n",
       "| 11 | 0.9768408 | 0.02315819 | 9.587338e-07 |\n",
       "| 19 | 0.9633442 | 0.03665316 | 2.640316e-06 |\n",
       "| 20 | 0.9847226 | 0.01527637 | 9.872122e-07 |\n",
       "| 21 | 0.9454431 | 0.05455375 | 3.195809e-06 |\n",
       "| 22 | 0.9778192 | 0.02217864 | 2.184701e-06 |\n",
       "\n"
      ],
      "text/plain": [
       "   setosa    versicolor virginica   \n",
       "4  0.9642528 0.03574500 2.148093e-06\n",
       "11 0.9768408 0.02315819 9.587338e-07\n",
       "19 0.9633442 0.03665316 2.640316e-06\n",
       "20 0.9847226 0.01527637 9.872122e-07\n",
       "21 0.9454431 0.05455375 3.195809e-06\n",
       "22 0.9778192 0.02217864 2.184701e-06"
      ]
     },
     "metadata": {},
     "output_type": "display_data"
    }
   ],
   "source": [
    "head(probs_glmnet)"
   ]
  },
  {
   "cell_type": "code",
   "execution_count": 90,
   "id": "7aef7480-9204-4f80-9e17-d43b5f58033b",
   "metadata": {},
   "outputs": [
    {
     "data": {
      "text/html": [
       "<style>\n",
       ".list-inline {list-style: none; margin:0; padding: 0}\n",
       ".list-inline>li {display: inline-block}\n",
       ".list-inline>li:not(:last-child)::after {content: \"\\00b7\"; padding: 0 .5ex}\n",
       "</style>\n",
       "<ol class=list-inline><li>1</li><li>1</li><li>1</li><li>1</li><li>1</li><li>1</li><li>1</li><li>1</li><li>1</li><li>1</li><li>1</li><li>1</li><li>1</li><li>1</li><li>1</li><li>1</li><li>2</li><li>2</li><li>2</li><li>2</li><li>2</li><li>3</li><li>2</li><li>2</li><li>2</li><li>2</li><li>2</li><li>2</li><li>2</li><li>2</li><li>2</li><li>2</li><li>3</li><li>3</li><li>3</li><li>3</li><li>3</li><li>3</li><li>3</li><li>3</li><li>3</li><li>3</li><li>3</li><li>3</li><li>3</li></ol>\n"
      ],
      "text/latex": [
       "\\begin{enumerate*}\n",
       "\\item 1\n",
       "\\item 1\n",
       "\\item 1\n",
       "\\item 1\n",
       "\\item 1\n",
       "\\item 1\n",
       "\\item 1\n",
       "\\item 1\n",
       "\\item 1\n",
       "\\item 1\n",
       "\\item 1\n",
       "\\item 1\n",
       "\\item 1\n",
       "\\item 1\n",
       "\\item 1\n",
       "\\item 1\n",
       "\\item 2\n",
       "\\item 2\n",
       "\\item 2\n",
       "\\item 2\n",
       "\\item 2\n",
       "\\item 3\n",
       "\\item 2\n",
       "\\item 2\n",
       "\\item 2\n",
       "\\item 2\n",
       "\\item 2\n",
       "\\item 2\n",
       "\\item 2\n",
       "\\item 2\n",
       "\\item 2\n",
       "\\item 2\n",
       "\\item 3\n",
       "\\item 3\n",
       "\\item 3\n",
       "\\item 3\n",
       "\\item 3\n",
       "\\item 3\n",
       "\\item 3\n",
       "\\item 3\n",
       "\\item 3\n",
       "\\item 3\n",
       "\\item 3\n",
       "\\item 3\n",
       "\\item 3\n",
       "\\end{enumerate*}\n"
      ],
      "text/markdown": [
       "1. 1\n",
       "2. 1\n",
       "3. 1\n",
       "4. 1\n",
       "5. 1\n",
       "6. 1\n",
       "7. 1\n",
       "8. 1\n",
       "9. 1\n",
       "10. 1\n",
       "11. 1\n",
       "12. 1\n",
       "13. 1\n",
       "14. 1\n",
       "15. 1\n",
       "16. 1\n",
       "17. 2\n",
       "18. 2\n",
       "19. 2\n",
       "20. 2\n",
       "21. 2\n",
       "22. 3\n",
       "23. 2\n",
       "24. 2\n",
       "25. 2\n",
       "26. 2\n",
       "27. 2\n",
       "28. 2\n",
       "29. 2\n",
       "30. 2\n",
       "31. 2\n",
       "32. 2\n",
       "33. 3\n",
       "34. 3\n",
       "35. 3\n",
       "36. 3\n",
       "37. 3\n",
       "38. 3\n",
       "39. 3\n",
       "40. 3\n",
       "41. 3\n",
       "42. 3\n",
       "43. 3\n",
       "44. 3\n",
       "45. 3\n",
       "\n",
       "\n"
      ],
      "text/plain": [
       " [1] 1 1 1 1 1 1 1 1 1 1 1 1 1 1 1 1 2 2 2 2 2 3 2 2 2 2 2 2 2 2 2 2 3 3 3 3 3 3\n",
       "[39] 3 3 3 3 3 3 3"
      ]
     },
     "metadata": {},
     "output_type": "display_data"
    }
   ],
   "source": [
    "max.col(probs_glmnet, ties.method = \"first\")"
   ]
  },
  {
   "cell_type": "code",
   "execution_count": 93,
   "id": "a0bb9f50-7ecb-416b-a398-5bc5ef528e17",
   "metadata": {},
   "outputs": [],
   "source": [
    "pred_glmnet <- colnames(probs_glmnet)[max.col(probs_glmnet, ties.method = \"first\")]"
   ]
  },
  {
   "cell_type": "code",
   "execution_count": 95,
   "id": "52cea994-42c4-4f12-a7eb-da6abb2d410b",
   "metadata": {},
   "outputs": [],
   "source": [
    "pred_glmnet <- factor(pred_glmnet, levels = levels(y_test))"
   ]
  },
  {
   "cell_type": "code",
   "execution_count": 96,
   "id": "4b5ddf00-5dca-452e-93ce-37a9a32e04ff",
   "metadata": {},
   "outputs": [
    {
     "data": {
      "text/html": [
       "<style>\n",
       ".list-inline {list-style: none; margin:0; padding: 0}\n",
       ".list-inline>li {display: inline-block}\n",
       ".list-inline>li:not(:last-child)::after {content: \"\\00b7\"; padding: 0 .5ex}\n",
       "</style>\n",
       "<ol class=list-inline><li>setosa</li><li>setosa</li><li>setosa</li><li>setosa</li><li>setosa</li><li>setosa</li><li>setosa</li><li>setosa</li><li>setosa</li><li>setosa</li><li>setosa</li><li>setosa</li><li>setosa</li><li>setosa</li><li>setosa</li><li>setosa</li><li>versicolor</li><li>versicolor</li><li>versicolor</li><li>versicolor</li><li>versicolor</li><li>virginica</li><li>versicolor</li><li>versicolor</li><li>versicolor</li><li>versicolor</li><li>versicolor</li><li>versicolor</li><li>versicolor</li><li>versicolor</li><li>versicolor</li><li>versicolor</li><li>virginica</li><li>virginica</li><li>virginica</li><li>virginica</li><li>virginica</li><li>virginica</li><li>virginica</li><li>virginica</li><li>virginica</li><li>virginica</li><li>virginica</li><li>virginica</li><li>virginica</li></ol>\n",
       "\n",
       "<details>\n",
       "\t<summary style=display:list-item;cursor:pointer>\n",
       "\t\t<strong>Levels</strong>:\n",
       "\t</summary>\n",
       "\t<style>\n",
       "\t.list-inline {list-style: none; margin:0; padding: 0}\n",
       "\t.list-inline>li {display: inline-block}\n",
       "\t.list-inline>li:not(:last-child)::after {content: \"\\00b7\"; padding: 0 .5ex}\n",
       "\t</style>\n",
       "\t<ol class=list-inline><li>'setosa'</li><li>'versicolor'</li><li>'virginica'</li></ol>\n",
       "</details>"
      ],
      "text/latex": [
       "\\begin{enumerate*}\n",
       "\\item setosa\n",
       "\\item setosa\n",
       "\\item setosa\n",
       "\\item setosa\n",
       "\\item setosa\n",
       "\\item setosa\n",
       "\\item setosa\n",
       "\\item setosa\n",
       "\\item setosa\n",
       "\\item setosa\n",
       "\\item setosa\n",
       "\\item setosa\n",
       "\\item setosa\n",
       "\\item setosa\n",
       "\\item setosa\n",
       "\\item setosa\n",
       "\\item versicolor\n",
       "\\item versicolor\n",
       "\\item versicolor\n",
       "\\item versicolor\n",
       "\\item versicolor\n",
       "\\item virginica\n",
       "\\item versicolor\n",
       "\\item versicolor\n",
       "\\item versicolor\n",
       "\\item versicolor\n",
       "\\item versicolor\n",
       "\\item versicolor\n",
       "\\item versicolor\n",
       "\\item versicolor\n",
       "\\item versicolor\n",
       "\\item versicolor\n",
       "\\item virginica\n",
       "\\item virginica\n",
       "\\item virginica\n",
       "\\item virginica\n",
       "\\item virginica\n",
       "\\item virginica\n",
       "\\item virginica\n",
       "\\item virginica\n",
       "\\item virginica\n",
       "\\item virginica\n",
       "\\item virginica\n",
       "\\item virginica\n",
       "\\item virginica\n",
       "\\end{enumerate*}\n",
       "\n",
       "\\emph{Levels}: \\begin{enumerate*}\n",
       "\\item 'setosa'\n",
       "\\item 'versicolor'\n",
       "\\item 'virginica'\n",
       "\\end{enumerate*}\n"
      ],
      "text/markdown": [
       "1. setosa\n",
       "2. setosa\n",
       "3. setosa\n",
       "4. setosa\n",
       "5. setosa\n",
       "6. setosa\n",
       "7. setosa\n",
       "8. setosa\n",
       "9. setosa\n",
       "10. setosa\n",
       "11. setosa\n",
       "12. setosa\n",
       "13. setosa\n",
       "14. setosa\n",
       "15. setosa\n",
       "16. setosa\n",
       "17. versicolor\n",
       "18. versicolor\n",
       "19. versicolor\n",
       "20. versicolor\n",
       "21. versicolor\n",
       "22. virginica\n",
       "23. versicolor\n",
       "24. versicolor\n",
       "25. versicolor\n",
       "26. versicolor\n",
       "27. versicolor\n",
       "28. versicolor\n",
       "29. versicolor\n",
       "30. versicolor\n",
       "31. versicolor\n",
       "32. versicolor\n",
       "33. virginica\n",
       "34. virginica\n",
       "35. virginica\n",
       "36. virginica\n",
       "37. virginica\n",
       "38. virginica\n",
       "39. virginica\n",
       "40. virginica\n",
       "41. virginica\n",
       "42. virginica\n",
       "43. virginica\n",
       "44. virginica\n",
       "45. virginica\n",
       "\n",
       "\n",
       "\n",
       "**Levels**: 1. 'setosa'\n",
       "2. 'versicolor'\n",
       "3. 'virginica'\n",
       "\n",
       "\n"
      ],
      "text/plain": [
       " [1] setosa     setosa     setosa     setosa     setosa     setosa    \n",
       " [7] setosa     setosa     setosa     setosa     setosa     setosa    \n",
       "[13] setosa     setosa     setosa     setosa     versicolor versicolor\n",
       "[19] versicolor versicolor versicolor virginica  versicolor versicolor\n",
       "[25] versicolor versicolor versicolor versicolor versicolor versicolor\n",
       "[31] versicolor versicolor virginica  virginica  virginica  virginica \n",
       "[37] virginica  virginica  virginica  virginica  virginica  virginica \n",
       "[43] virginica  virginica  virginica \n",
       "Levels: setosa versicolor virginica"
      ]
     },
     "metadata": {},
     "output_type": "display_data"
    }
   ],
   "source": [
    "pred_glmnet"
   ]
  }
 ],
 "metadata": {
  "kernelspec": {
   "display_name": "R - r-data-science",
   "language": "R",
   "name": "ir_r-data-science"
  },
  "language_info": {
   "codemirror_mode": "r",
   "file_extension": ".r",
   "mimetype": "text/x-r-source",
   "name": "R",
   "pygments_lexer": "r",
   "version": "4.0.4"
  }
 },
 "nbformat": 4,
 "nbformat_minor": 5
}
