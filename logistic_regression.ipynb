{
  "nbformat": 4,
  "nbformat_minor": 0,
  "metadata": {
    "colab": {
      "provenance": [],
      "collapsed_sections": [
        "oydmgt7407fv"
      ]
    },
    "kernelspec": {
      "name": "ir",
      "display_name": "R"
    },
    "language_info": {
      "name": "R"
    }
  },
  "cells": [
    {
      "cell_type": "markdown",
      "source": [
        "# R Packages"
      ],
      "metadata": {
        "id": "oydmgt7407fv"
      }
    },
    {
      "cell_type": "code",
      "execution_count": null,
      "metadata": {
        "id": "I8IFFazcs8S7"
      },
      "outputs": [],
      "source": [
        "install.packages(\"ISLR\")\n",
        "install.packages(\"ISLR2\")\n",
        "install.packages(\"caret\")\n",
        "install.packages(\"pROC\")"
      ]
    },
    {
      "cell_type": "code",
      "source": [
        "library(\"ISLR\")\n",
        "library(\"ISLR2\")\n",
        "library(\"caret\")\n",
        "library(\"pROC\")"
      ],
      "metadata": {
        "id": "ObGjx0QdtUGN"
      },
      "execution_count": null,
      "outputs": []
    },
    {
      "cell_type": "markdown",
      "source": [
        "# ISLR :: Smarket"
      ],
      "metadata": {
        "id": "E-RLadyQ1Ba-"
      }
    },
    {
      "cell_type": "code",
      "source": [
        "df_smarket <- ISLR::Smarket\n",
        "names(df_smarket)"
      ],
      "metadata": {
        "id": "2PAAltAKtUR5"
      },
      "execution_count": null,
      "outputs": []
    },
    {
      "cell_type": "code",
      "source": [
        "smarket_glm <- glm(Direction ~ . -Today, data = df_smarket, family = binomial)\n",
        "formula(smarket_glm)\n",
        "summary(smarket_glm)"
      ],
      "metadata": {
        "id": "Jwf7SIiJvZDT"
      },
      "execution_count": null,
      "outputs": []
    },
    {
      "cell_type": "markdown",
      "source": [
        "## Linear Regression"
      ],
      "metadata": {
        "id": "NWQXdjjn1ht0"
      }
    },
    {
      "cell_type": "code",
      "source": [
        "set.seed(123)\n",
        "particao <- sample(seq_len(nrow(df_smarket)), size = 0.7 * nrow (df_smarket))\n",
        "df_smarket_ml <- df_smarket[particao, ]\n",
        "df_smarket_test <- df_smarket[-particao, ]\n",
        "prop.table(table(df_smarket_ml$Direction));\n",
        "prop.table(table(df_smarket_test$Direction))"
      ],
      "metadata": {
        "id": "gFoq6ukHyoIi"
      },
      "execution_count": null,
      "outputs": []
    },
    {
      "cell_type": "code",
      "source": [
        "pairs(df_smarket, col=df_smarket$Direction)"
      ],
      "metadata": {
        "id": "NEF4-H8EzbPo"
      },
      "execution_count": null,
      "outputs": []
    },
    {
      "cell_type": "code",
      "source": [
        "ggplot(df_smarket, aes(Lag4, fill = Direction)) +\n",
        "  geom_histogram(bins = 30, alpha = .8, position = \"identity\") +\n",
        "  labs(title = \"Distribuição de Direction por Today\", x = \"Direction\", y = \"Contagem\")"
      ],
      "metadata": {
        "id": "KNtMbggRzkn8"
      },
      "execution_count": null,
      "outputs": []
    },
    {
      "cell_type": "markdown",
      "source": [
        "## Predicition"
      ],
      "metadata": {
        "id": "TxhLLS0u-a5W"
      }
    },
    {
      "cell_type": "code",
      "source": [
        "pred_smarket_glm <- predict(smarket_glm, newdata = df_smarket_test, type = \"response\")\n",
        "summary(pred_smarket_glm)"
      ],
      "metadata": {
        "id": "YXYPh3QY-fYU"
      },
      "execution_count": null,
      "outputs": []
    },
    {
      "cell_type": "code",
      "source": [
        "answer_smarket_glm <- ifelse(pred_smarket_glm < 0.5, \"Down\", \"Up\")\n",
        "prop.table(table(answer_smarket_glm==df_smarket_test$Direction))"
      ],
      "metadata": {
        "id": "rN2i6OCj_WpH"
      },
      "execution_count": null,
      "outputs": []
    },
    {
      "cell_type": "markdown",
      "source": [
        "# ISLR :: Default"
      ],
      "metadata": {
        "id": "2PJ23jlP1HGB"
      }
    },
    {
      "cell_type": "code",
      "source": [
        "df_default <- ISLR::Default\n",
        "head(df_default)"
      ],
      "metadata": {
        "id": "ozjr2kMjwA_s"
      },
      "execution_count": null,
      "outputs": []
    },
    {
      "cell_type": "code",
      "source": [
        "default_glm <- glm(student ~ . , data = df_default, family = binomial)\n",
        "formula(default_glm)\n",
        "summary(default_glm)"
      ],
      "metadata": {
        "id": "XPIiUq6kv0FF"
      },
      "execution_count": null,
      "outputs": []
    },
    {
      "cell_type": "markdown",
      "source": [
        "## Linear Regression"
      ],
      "metadata": {
        "id": "uhHZoZ537E2H"
      }
    },
    {
      "cell_type": "code",
      "source": [
        "set.seed(123)\n",
        "particao <- sample(seq_len(nrow(df_default)), size = 0.7 * nrow (df_default))\n",
        "df_default_ml <- df_default[particao, ]\n",
        "df_default_test <- df_default[-particao, ]\n",
        "prop.table(table(df_default_ml$student));\n",
        "prop.table(table(df_default_test$student))"
      ],
      "metadata": {
        "id": "9Pf-ChzD5I6d"
      },
      "execution_count": null,
      "outputs": []
    },
    {
      "cell_type": "code",
      "source": [
        "pairs(df_default, col=df_default$student)"
      ],
      "metadata": {
        "id": "BEI3z-YK6pWr"
      },
      "execution_count": null,
      "outputs": []
    },
    {
      "cell_type": "code",
      "source": [
        "ggplot(df_default, aes(income, fill = student)) +\n",
        "  geom_histogram(bins = 30, alpha = .8, position = \"identity\") +\n",
        "  labs(title = \"Distribuição de student por income\", x = \"student\", y = \"Contagem\")"
      ],
      "metadata": {
        "id": "_mynhryJ6rcc"
      },
      "execution_count": null,
      "outputs": []
    },
    {
      "cell_type": "markdown",
      "source": [
        "# ISLR2 :: Smarket"
      ],
      "metadata": {
        "id": "jB2wZJAe1NU6"
      }
    },
    {
      "cell_type": "code",
      "source": [
        "df_smarket2 <- ISLR2::Smarket\n",
        "head(df_smarket)"
      ],
      "metadata": {
        "id": "nShTEYxPwLJq"
      },
      "execution_count": null,
      "outputs": []
    },
    {
      "cell_type": "code",
      "source": [
        "smarket2_glm <- glm(Direction ~ . -Today, data = df_smarket2, family = binomial)\n",
        "formula(smarket2_glm)\n",
        "summary(smarket2_glm)"
      ],
      "metadata": {
        "id": "jwqyhbfuwx1S"
      },
      "execution_count": null,
      "outputs": []
    },
    {
      "cell_type": "markdown",
      "source": [
        "## Linear Regression"
      ],
      "metadata": {
        "id": "A5Yj0XLI7Zqq"
      }
    },
    {
      "cell_type": "code",
      "source": [
        "set.seed(123)\n",
        "particao <- sample(seq_len(nrow(df_smarket2)), size = 0.7 * nrow (df_smarket2))\n",
        "df_smarket2_ml <- df_smarket2[particao, ]\n",
        "df_smarket2_test <- df_smarket2[-particao, ]\n",
        "prop.table(table(df_smarket2_ml$Direction));\n",
        "prop.table(table(df_smarket2_test$Direction))"
      ],
      "metadata": {
        "id": "NZOAJwS-7fGb"
      },
      "execution_count": null,
      "outputs": []
    },
    {
      "cell_type": "code",
      "source": [
        "pairs(df_smarket2, col=df_smarket2$Direction)"
      ],
      "metadata": {
        "id": "hYZf6WL67fGd"
      },
      "execution_count": null,
      "outputs": []
    },
    {
      "cell_type": "code",
      "source": [
        "ggplot(df_smarket2, aes(Lag1, fill = Direction)) +\n",
        "  geom_histogram(bins = 30, alpha = .8, position = \"identity\") +\n",
        "  labs(title = \"Distribuição de Direction por Today\", x = \"Direction\", y = \"Contagem\")"
      ],
      "metadata": {
        "id": "3gH6fFq67fGe"
      },
      "execution_count": null,
      "outputs": []
    },
    {
      "cell_type": "markdown",
      "source": [
        "# ISLR2 :: Weekly"
      ],
      "metadata": {
        "id": "CGl12fh_1Qf3"
      }
    },
    {
      "cell_type": "code",
      "source": [
        "df_weekly <- ISLR2::Weekly\n",
        "head(df_weekly)"
      ],
      "metadata": {
        "id": "3SFlfJo9w-9j"
      },
      "execution_count": null,
      "outputs": []
    },
    {
      "cell_type": "code",
      "source": [
        "weekly_glm <- glm(Direction ~ . -Today, data = df_weekly, family = binomial)\n",
        "formula(weekly_glm)\n",
        "summary(weekly_glm)"
      ],
      "metadata": {
        "id": "rd1pODqQ1dW3"
      },
      "execution_count": null,
      "outputs": []
    },
    {
      "cell_type": "markdown",
      "source": [
        "## Linear Regression"
      ],
      "metadata": {
        "id": "cq87mGra8aWW"
      }
    },
    {
      "cell_type": "code",
      "source": [
        "set.seed(123)\n",
        "particao <- sample(seq_len(nrow(df_weekly)), size = 0.7 * nrow (df_weekly))\n",
        "df_weekly_ml <- df_weekly[particao, ]\n",
        "df_weekly_test <- df_weekly[-particao, ]\n",
        "prop.table(table(df_weekly_ml$Direction));\n",
        "prop.table(table(df_weekly_test$Direction))"
      ],
      "metadata": {
        "id": "EGN0tQry8aWe"
      },
      "execution_count": null,
      "outputs": []
    },
    {
      "cell_type": "code",
      "source": [
        "pairs(df_weekly, col=df_weekly$Direction)"
      ],
      "metadata": {
        "id": "XZJCvUV48aWg"
      },
      "execution_count": null,
      "outputs": []
    },
    {
      "cell_type": "code",
      "source": [
        "ggplot(df_weekly, aes(Lag1, fill = Direction)) +\n",
        "  geom_histogram(bins = 30, alpha = .8, position = \"identity\") +\n",
        "  labs(title = \"Distribuição de Direction por Today\", x = \"Direction\", y = \"Contagem\")"
      ],
      "metadata": {
        "id": "y_mW9gvE8aWh"
      },
      "execution_count": null,
      "outputs": []
    },
    {
      "cell_type": "markdown",
      "source": [
        "# ISLR2 :: Caravan"
      ],
      "metadata": {
        "id": "N5klWqz41YJf"
      }
    },
    {
      "cell_type": "code",
      "source": [
        "df_caravan <- ISLR2::Caravan\n",
        "head(df_caravan)"
      ],
      "metadata": {
        "id": "D76J_ad0xMPP"
      },
      "execution_count": null,
      "outputs": []
    },
    {
      "cell_type": "code",
      "source": [
        "caravan_glm <- glm(Purchase ~ . , data = df_caravan, family = binomial)\n",
        "summary(caravan_glm)"
      ],
      "metadata": {
        "id": "LnekaTSAyjbr"
      },
      "execution_count": null,
      "outputs": []
    },
    {
      "cell_type": "markdown",
      "source": [
        "## Linear Regression"
      ],
      "metadata": {
        "id": "mgc5dxLW86Jb"
      }
    },
    {
      "cell_type": "code",
      "source": [
        "set.seed(123)\n",
        "particao <- sample(seq_len(nrow(df_caravan)), size = 0.7 * nrow (df_caravan))\n",
        "df_caravan_ml <- df_caravan[particao, ]\n",
        "df_caravan_test <- df_caravan[-particao, ]\n",
        "prop.table(table(df_caravan_ml$Purchase));\n",
        "prop.table(table(df_caravan_test$Purchase))"
      ],
      "metadata": {
        "id": "y4jluyGi86Jf"
      },
      "execution_count": null,
      "outputs": []
    },
    {
      "cell_type": "code",
      "source": [
        "subset_cols <- c(\"Purchase\", \"MOSTYPE\", \"MAANTHUI\", \"MGEMOMV\", \"MGEMLEEF\")\n",
        "pairs(df_caravan[, subset_cols], col = df_caravan$Purchase)"
      ],
      "metadata": {
        "id": "_V60XFpH86Jg"
      },
      "execution_count": null,
      "outputs": []
    },
    {
      "cell_type": "code",
      "source": [
        "ggplot(df_caravan, aes(MGEMLEEF, fill = Purchase)) +\n",
        "  geom_histogram(bins = 30, alpha = .8, position = \"identity\") +\n",
        "  labs(title = \"Distribuição de Purchase por Today\", x = \"Purchase\", y = \"Contagem\")"
      ],
      "metadata": {
        "id": "73SXIZxL86Ji"
      },
      "execution_count": null,
      "outputs": []
    }
  ]
}