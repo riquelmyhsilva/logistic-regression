{
  "cells": [
    {
      "cell_type": "markdown",
      "metadata": {
        "id": "oydmgt7407fv"
      },
      "source": [
        "# R Packages"
      ]
    },
    {
      "cell_type": "code",
      "execution_count": null,
      "metadata": {
        "id": "I8IFFazcs8S7"
      },
      "outputs": [],
      "source": [
        "install.packages(\"ISLR\")\n",
        "install.packages(\"ISLR2\")\n",
        "install.packages(\"caret\")\n",
        "install.packages(\"pROC\")"
      ]
    },
    {
      "cell_type": "code",
      "execution_count": null,
      "metadata": {
        "id": "ObGjx0QdtUGN"
      },
      "outputs": [],
      "source": [
        "library(\"ISLR\")\n",
        "library(\"ISLR2\")\n",
        "library(\"caret\")\n",
        "library(\"pROC\")"
      ]
    },
    {
      "cell_type": "markdown",
      "metadata": {
        "id": "E-RLadyQ1Ba-"
      },
      "source": [
        "# ISLR :: Smarket"
      ]
    },
    {
      "cell_type": "code",
      "execution_count": null,
      "metadata": {
        "id": "2PAAltAKtUR5"
      },
      "outputs": [],
      "source": [
        "df_smarket <- ISLR::Smarket\n",
        "head(df_smarket)"
      ]
    },
    {
      "cell_type": "code",
      "execution_count": null,
      "metadata": {
        "id": "Jwf7SIiJvZDT"
      },
      "outputs": [],
      "source": [
        "smarket_glm <- glm(Direction ~ . -Today, data = df_smarket, family = binomial)\n",
        "formula(smarket_glm)\n",
        "summary(smarket_glm)"
      ]
    },
    {
      "cell_type": "markdown",
      "metadata": {
        "id": "NWQXdjjn1ht0"
      },
      "source": [
        "## Linear Regression"
      ]
    },
    {
      "cell_type": "code",
      "execution_count": null,
      "metadata": {
        "id": "gFoq6ukHyoIi"
      },
      "outputs": [],
      "source": [
        "set.seed(123)\n",
        "particao <- sample(seq_len(nrow(df_smarket)), size = 0.7 * nrow (df_smarket))\n",
        "df_smarket_ml <- df_smarket[particao, ]\n",
        "df_smarket_test <- df_smarket[-particao, ]\n",
        "prop.table(table(df_smarket_ml$Direction));\n",
        "prop.table(table(df_smarket_test$Direction))"
      ]
    },
    {
      "cell_type": "code",
      "execution_count": null,
      "metadata": {
        "id": "NEF4-H8EzbPo"
      },
      "outputs": [],
      "source": [
        "pairs(df_smarket, col=df_smarket$Direction)"
      ]
    },
    {
      "cell_type": "code",
      "execution_count": null,
      "metadata": {
        "id": "KNtMbggRzkn8"
      },
      "outputs": [],
      "source": [
        "ggplot(df_smarket, aes(Lag4, fill = Direction)) +\n",
        "  geom_histogram(bins = 30, alpha = .8, position = \"identity\") +\n",
        "  labs(title = \"Distribuição de Direction por Today\", x = \"Direction\", y = \"Contagem\")"
      ]
    },
    {
      "cell_type": "markdown",
      "metadata": {
        "id": "TxhLLS0u-a5W"
      },
      "source": [
        "## Predicition"
      ]
    },
    {
      "cell_type": "code",
      "execution_count": null,
      "metadata": {
        "id": "YXYPh3QY-fYU"
      },
      "outputs": [],
      "source": [
        "pred_smarket_glm <- predict(smarket_glm, newdata = df_smarket_test, type = \"response\")\n",
        "summary(pred_smarket_glm)"
      ]
    },
    {
      "cell_type": "code",
      "execution_count": null,
      "metadata": {
        "id": "rN2i6OCj_WpH"
      },
      "outputs": [],
      "source": [
        "answer_smarket_glm <- ifelse(pred_smarket_glm < 0.5, \"Down\", \"Up\")\n",
        "prop.table(table(answer_smarket_glm==df_smarket_test$Direction))"
      ]
    },
    {
      "cell_type": "markdown",
      "metadata": {
        "id": "2PJ23jlP1HGB"
      },
      "source": [
        "# ISLR :: Default"
      ]
    },
    {
      "cell_type": "code",
      "execution_count": null,
      "metadata": {
        "id": "ozjr2kMjwA_s"
      },
      "outputs": [],
      "source": [
        "df_default <- ISLR::Default\n",
        "head(df_default)"
      ]
    },
    {
      "cell_type": "code",
      "execution_count": null,
      "metadata": {
        "id": "XPIiUq6kv0FF"
      },
      "outputs": [],
      "source": [
        "default_glm <- glm(student ~ . , data = df_default, family = binomial)\n",
        "formula(default_glm)\n",
        "summary(default_glm)"
      ]
    },
    {
      "cell_type": "markdown",
      "metadata": {
        "id": "uhHZoZ537E2H"
      },
      "source": [
        "## Linear Regression"
      ]
    },
    {
      "cell_type": "code",
      "execution_count": null,
      "metadata": {
        "id": "9Pf-ChzD5I6d"
      },
      "outputs": [],
      "source": [
        "set.seed(123)\n",
        "particao <- sample(seq_len(nrow(df_default)), size = 0.7 * nrow (df_default))\n",
        "df_default_ml <- df_default[particao, ]\n",
        "df_default_test <- df_default[-particao, ]\n",
        "prop.table(table(df_default_ml$student));\n",
        "prop.table(table(df_default_test$student))"
      ]
    },
    {
      "cell_type": "code",
      "execution_count": null,
      "metadata": {
        "id": "BEI3z-YK6pWr"
      },
      "outputs": [],
      "source": [
        "pairs(df_default, col=df_default$student)"
      ]
    },
    {
      "cell_type": "code",
      "execution_count": null,
      "metadata": {
        "id": "_mynhryJ6rcc"
      },
      "outputs": [],
      "source": [
        "ggplot(df_default, aes(income, fill = student)) +\n",
        "  geom_histogram(bins = 30, alpha = .8, position = \"identity\") +\n",
        "  labs(title = \"Distribuição de student por income\", x = \"student\", y = \"Contagem\")"
      ]
    },
    {
      "cell_type": "markdown",
      "metadata": {
        "id": "IzsOtgtZC44c"
      },
      "source": [
        "## Predicition"
      ]
    },
    {
      "cell_type": "code",
      "execution_count": null,
      "metadata": {
        "id": "CqarKIenC44e"
      },
      "outputs": [],
      "source": [
        "pred_default_glm <- predict(default_glm, newdata = df_default_test, type = \"response\")\n",
        "summary(pred_default_glm)"
      ]
    },
    {
      "cell_type": "code",
      "execution_count": null,
      "metadata": {
        "id": "pbAny2YMC44g"
      },
      "outputs": [],
      "source": [
        "answer_default_glm <- ifelse(pred_default_glm < 0.5, \"Yes\", \"No\")\n",
        "prop.table(table(answer_default_glm==df_default_test$student))"
      ]
    },
    {
      "cell_type": "markdown",
      "metadata": {
        "id": "jB2wZJAe1NU6"
      },
      "source": [
        "# ISLR2 :: Smarket"
      ]
    },
    {
      "cell_type": "code",
      "execution_count": null,
      "metadata": {
        "id": "nShTEYxPwLJq"
      },
      "outputs": [],
      "source": [
        "df_smarket2 <- ISLR2::Smarket\n",
        "head(df_smarket)"
      ]
    },
    {
      "cell_type": "code",
      "execution_count": null,
      "metadata": {
        "id": "jwqyhbfuwx1S"
      },
      "outputs": [],
      "source": [
        "smarket2_glm <- glm(Direction ~ . -Today, data = df_smarket2, family = binomial)\n",
        "formula(smarket2_glm)\n",
        "summary(smarket2_glm)"
      ]
    },
    {
      "cell_type": "markdown",
      "metadata": {
        "id": "A5Yj0XLI7Zqq"
      },
      "source": [
        "## Linear Regression"
      ]
    },
    {
      "cell_type": "code",
      "execution_count": null,
      "metadata": {
        "id": "NZOAJwS-7fGb"
      },
      "outputs": [],
      "source": [
        "set.seed(123)\n",
        "particao <- sample(seq_len(nrow(df_smarket2)), size = 0.7 * nrow (df_smarket2))\n",
        "df_smarket2_ml <- df_smarket2[particao, ]\n",
        "df_smarket2_test <- df_smarket2[-particao, ]\n",
        "prop.table(table(df_smarket2_ml$Direction));\n",
        "prop.table(table(df_smarket2_test$Direction))"
      ]
    },
    {
      "cell_type": "code",
      "execution_count": null,
      "metadata": {
        "id": "hYZf6WL67fGd"
      },
      "outputs": [],
      "source": [
        "pairs(df_smarket2, col=df_smarket2$Direction)"
      ]
    },
    {
      "cell_type": "code",
      "execution_count": null,
      "metadata": {
        "id": "3gH6fFq67fGe"
      },
      "outputs": [],
      "source": [
        "ggplot(df_smarket2, aes(Lag1, fill = Direction)) +\n",
        "  geom_histogram(bins = 30, alpha = .8, position = \"identity\") +\n",
        "  labs(title = \"Distribuição de Direction por Today\", x = \"Direction\", y = \"Contagem\")"
      ]
    },
    {
      "cell_type": "markdown",
      "metadata": {
        "id": "eaebc922"
      },
      "source": [
        "# Prediction"
      ]
    },
    {
      "cell_type": "code",
      "metadata": {
        "id": "e5fbfd71"
      },
      "source": [
        "pred_smarket2_glm <- predict(smarket2_glm, newdata = df_smarket2_test, type = \"response\")\n",
        "summary(pred_smarket2_glm)"
      ],
      "execution_count": null,
      "outputs": []
    },
    {
      "cell_type": "code",
      "metadata": {
        "id": "4aecbfd6"
      },
      "source": [
        "answer_smarket2_glm <- ifelse(pred_smarket2_glm < 0.5, \"Down\", \"Up\")\n",
        "prop.table(table(answer_smarket2_glm==df_smarket2_test$Direction))"
      ],
      "execution_count": null,
      "outputs": []
    },
    {
      "cell_type": "markdown",
      "metadata": {
        "id": "CGl12fh_1Qf3"
      },
      "source": [
        "# ISLR2 :: Weekly"
      ]
    },
    {
      "cell_type": "code",
      "execution_count": null,
      "metadata": {
        "id": "3SFlfJo9w-9j"
      },
      "outputs": [],
      "source": [
        "df_weekly <- ISLR2::Weekly\n",
        "head(df_weekly)"
      ]
    },
    {
      "cell_type": "code",
      "execution_count": null,
      "metadata": {
        "id": "rd1pODqQ1dW3"
      },
      "outputs": [],
      "source": [
        "weekly_glm <- glm(Direction ~ . -Today, data = df_weekly, family = binomial)\n",
        "formula(weekly_glm)\n",
        "summary(weekly_glm)"
      ]
    },
    {
      "cell_type": "markdown",
      "metadata": {
        "id": "cq87mGra8aWW"
      },
      "source": [
        "## Linear Regression"
      ]
    },
    {
      "cell_type": "code",
      "execution_count": null,
      "metadata": {
        "id": "EGN0tQry8aWe"
      },
      "outputs": [],
      "source": [
        "set.seed(123)\n",
        "particao <- sample(seq_len(nrow(df_weekly)), size = 0.7 * nrow (df_weekly))\n",
        "df_weekly_ml <- df_weekly[particao, ]\n",
        "df_weekly_test <- df_weekly[-particao, ]\n",
        "prop.table(table(df_weekly_ml$Direction));\n",
        "prop.table(table(df_weekly_test$Direction))"
      ]
    },
    {
      "cell_type": "code",
      "execution_count": null,
      "metadata": {
        "id": "XZJCvUV48aWg"
      },
      "outputs": [],
      "source": [
        "pairs(df_weekly, col=df_weekly$Direction)"
      ]
    },
    {
      "cell_type": "code",
      "execution_count": null,
      "metadata": {
        "id": "y_mW9gvE8aWh"
      },
      "outputs": [],
      "source": [
        "ggplot(df_weekly, aes(Lag1, fill = Direction)) +\n",
        "  geom_histogram(bins = 30, alpha = .8, position = \"identity\") +\n",
        "  labs(title = \"Distribuição de Direction por Today\", x = \"Direction\", y = \"Contagem\")"
      ]
    },
    {
      "cell_type": "markdown",
      "metadata": {
        "id": "8df90ece"
      },
      "source": [
        "## Prediction"
      ]
    },
    {
      "cell_type": "code",
      "metadata": {
        "id": "e1263475"
      },
      "source": [
        "pred_weekly_glm <- predict(weekly_glm, newdata = df_weekly_test, type = \"response\")\n",
        "summary(pred_weekly_glm)"
      ],
      "execution_count": null,
      "outputs": []
    },
    {
      "cell_type": "code",
      "metadata": {
        "id": "23dc4843"
      },
      "source": [
        "answer_weekly_glm <- ifelse(pred_weekly_glm < 0.5, \"Down\", \"Up\")\n",
        "prop.table(table(answer_weekly_glm==df_weekly_test$Direction))"
      ],
      "execution_count": null,
      "outputs": []
    },
    {
      "cell_type": "markdown",
      "metadata": {
        "id": "N5klWqz41YJf"
      },
      "source": [
        "# ISLR2 :: Caravan"
      ]
    },
    {
      "cell_type": "code",
      "execution_count": null,
      "metadata": {
        "id": "D76J_ad0xMPP"
      },
      "outputs": [],
      "source": [
        "df_caravan <- ISLR2::Caravan\n",
        "head(df_caravan)"
      ]
    },
    {
      "cell_type": "code",
      "execution_count": null,
      "metadata": {
        "id": "LnekaTSAyjbr"
      },
      "outputs": [],
      "source": [
        "caravan_glm <- glm(Purchase ~ . , data = df_caravan, family = binomial)\n",
        "summary(caravan_glm)"
      ]
    },
    {
      "cell_type": "markdown",
      "metadata": {
        "id": "mgc5dxLW86Jb"
      },
      "source": [
        "## Linear Regression"
      ]
    },
    {
      "cell_type": "code",
      "execution_count": null,
      "metadata": {
        "id": "y4jluyGi86Jf"
      },
      "outputs": [],
      "source": [
        "set.seed(123)\n",
        "particao <- sample(seq_len(nrow(df_caravan)), size = 0.7 * nrow (df_caravan))\n",
        "df_caravan_ml <- df_caravan[particao, ]\n",
        "df_caravan_test <- df_caravan[-particao, ]\n",
        "prop.table(table(df_caravan_ml$Purchase));\n",
        "prop.table(table(df_caravan_test$Purchase))"
      ]
    },
    {
      "cell_type": "code",
      "execution_count": null,
      "metadata": {
        "id": "_V60XFpH86Jg"
      },
      "outputs": [],
      "source": [
        "subset_cols <- c(\"Purchase\", \"MOSTYPE\", \"MAANTHUI\", \"MGEMOMV\", \"MGEMLEEF\")\n",
        "pairs(df_caravan[, subset_cols], col = df_caravan$Purchase)"
      ]
    },
    {
      "cell_type": "code",
      "execution_count": null,
      "metadata": {
        "id": "73SXIZxL86Ji"
      },
      "outputs": [],
      "source": [
        "ggplot(df_caravan, aes(MGEMLEEF, fill = Purchase)) +\n",
        "  geom_histogram(bins = 30, alpha = .8, position = \"identity\") +\n",
        "  labs(title = \"Distribuição de Purchase por Today\", x = \"Purchase\", y = \"Contagem\")"
      ]
    },
    {
      "cell_type": "markdown",
      "metadata": {
        "id": "e32be0a8"
      },
      "source": [
        "## Prediciton"
      ]
    },
    {
      "cell_type": "code",
      "metadata": {
        "id": "6b19dbdd"
      },
      "source": [
        "pred_caravan_glm <- predict(caravan_glm, newdata = df_caravan_test, type = \"response\")\n",
        "summary(pred_caravan_glm)"
      ],
      "execution_count": null,
      "outputs": []
    },
    {
      "cell_type": "code",
      "metadata": {
        "id": "bb3635d0"
      },
      "source": [
        "answer_caravan_glm <- ifelse(pred_caravan_glm < 0.5, \"No\", \"Yes\")\n",
        "prop.table(table(answer_caravan_glm==df_caravan_test$Purchase))"
      ],
      "execution_count": null,
      "outputs": []
    }
  ],
  "metadata": {
    "colab": {
      "collapsed_sections": [
        "oydmgt7407fv"
      ],
      "provenance": []
    },
    "kernelspec": {
      "display_name": "R",
      "name": "ir"
    },
    "language_info": {
      "name": "R"
    }
  },
  "nbformat": 4,
  "nbformat_minor": 0
}